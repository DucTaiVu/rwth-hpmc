{
 "cells": [
  {
   "cell_type": "markdown",
   "metadata": {},
   "source": [
    "### Cholesky decomposition explained"
   ]
  },
  {
   "cell_type": "code",
   "execution_count": 2,
   "metadata": {
    "collapsed": true
   },
   "outputs": [],
   "source": [
    "import numpy as np"
   ]
  },
  {
   "cell_type": "code",
   "execution_count": 3,
   "metadata": {
    "collapsed": false
   },
   "outputs": [],
   "source": [
    "DIM         = 5\n",
    "TL_CONSTANT = 3 # how dimensions of decomposition will be done with non-blocked algorithm"
   ]
  },
  {
   "cell_type": "markdown",
   "metadata": {},
   "source": [
    "### Generate lower trianguar matrix and get A (A = LL')"
   ]
  },
  {
   "cell_type": "code",
   "execution_count": 4,
   "metadata": {
    "collapsed": false
   },
   "outputs": [
    {
     "name": "stdout",
     "output_type": "stream",
     "text": [
      "[[ 0.90485488  0.          0.          0.          0.        ]\n",
      " [ 0.78880296  0.54878997  0.          0.          0.        ]\n",
      " [ 0.1828284   0.53397538  0.16639043  0.          0.        ]\n",
      " [ 0.51966276  0.39512974  0.01237586  0.27041888  0.        ]\n",
      " [ 0.44231778  0.04645589  0.29625209  0.7132483   0.4831923 ]]\n",
      "---------------------------------------\n",
      "[[ 0.81876236  0.71375221  0.16543317  0.47021938  0.4002334 ]\n",
      " [ 0.71375221  0.92338055  0.43725592  0.62675476  0.3743961 ]\n",
      " [ 0.16543317  0.43725592  0.3462417   0.30805789  0.15496807]\n",
      " [ 0.47021938  0.62675476  0.30805789  0.49945642  0.44475436]\n",
      " [ 0.4002334   0.3743961   0.15496807  0.44475436  1.02776641]]\n"
     ]
    }
   ],
   "source": [
    "# Cholesky decomposition is unique if the main diagonal is positive\n",
    "L = np.tril(np.random.rand(DIM,DIM))        \n",
    "A = np.dot(L,L.T)\n",
    "\n",
    "print(L)\n",
    "print('---------------------------------------')\n",
    "print(A)\n",
    "\n",
    "# check that LL' is a Cholesky decomposition of A\n",
    "np.testing.assert_almost_equal(np.linalg.cholesky(A), L)"
   ]
  },
  {
   "cell_type": "markdown",
   "metadata": {},
   "source": [
    "### Non-blocked algorithm"
   ]
  },
  {
   "cell_type": "code",
   "execution_count": 5,
   "metadata": {
    "collapsed": false
   },
   "outputs": [],
   "source": [
    "def cholesky_non_blocked(A):\n",
    "    ''' Returns L such that A = LL'\n",
    "    '''\n",
    "    if A.shape[0] == 1:\n",
    "        return np.sqrt(A[0,0])\n",
    "    \n",
    "    A_tl = A[0,0]\n",
    "    A_bl = A[1:,0]\n",
    "    A_br = A[1:,1:]\n",
    "    \n",
    "    L_tl = np.sqrt(A_tl)\n",
    "    L_bl = (A_bl/np.sqrt(A_tl))\n",
    "    # Use reshape to transpose in a linear algebra way but not to deal with np.matrix\n",
    "    L_br = cholesky_non_blocked(A_br-np.dot(L_bl.reshape(-1,1),L_bl.reshape((1,-1))))\n",
    "    \n",
    "    L = np.eye(len(A))\n",
    "    L[0, 0]  = L_tl\n",
    "    L[1:,0]  = L_bl\n",
    "    L[1:,1:] = L_br\n",
    "    return L\n",
    "\n",
    "np.testing.assert_array_almost_equal(cholesky_non_blocked(A), L)"
   ]
  },
  {
   "cell_type": "markdown",
   "metadata": {},
   "source": [
    "### Going smarter (non-blocked for A_top_right and blocked for else)"
   ]
  },
  {
   "cell_type": "code",
   "execution_count": 6,
   "metadata": {
    "collapsed": false,
    "scrolled": true
   },
   "outputs": [],
   "source": [
    "def cholesky_blocked(A, split=TL_CONSTANT):\n",
    "    \n",
    "    ''' Returns L such that A = LL'\n",
    "        for small top right we use unblocked version\n",
    "        then we proceed with blocked algorithm\n",
    "    '''\n",
    "\n",
    "    if A.shape[0] <= split:\n",
    "        return cholesky_non_blocked(A)\n",
    "        \n",
    "    A_tl = A[:TL_CONSTANT,:TL_CONSTANT]\n",
    "    A_bl = A[TL_CONSTANT:,:TL_CONSTANT]\n",
    "    A_br = A[TL_CONSTANT:,TL_CONSTANT:]\n",
    "    \n",
    "    L_tl = cholesky_non_blocked(A_tl)\n",
    "\n",
    "    L_bl = np.linalg.solve(L_tl, A_bl.T).T\n",
    "    \n",
    "    # Use reshape to transpose in a linear algebra way but not to deal with np.matrix\n",
    "    L_br = cholesky_blocked(A_br-np.dot(L_bl,L_bl.T))\n",
    "\n",
    "    L = np.eye(len(A))\n",
    "    L[:TL_CONSTANT,:TL_CONSTANT]  = L_tl    \n",
    "    L[TL_CONSTANT:,:TL_CONSTANT]  = L_bl\n",
    "    L[TL_CONSTANT:,TL_CONSTANT:] = L_br\n",
    " \n",
    "    return L\n",
    "np.testing.assert_array_almost_equal(cholesky_blocked(A), L)"
   ]
  }
 ],
 "metadata": {
  "kernelspec": {
   "display_name": "Python 3",
   "language": "python",
   "name": "python3"
  },
  "language_info": {
   "codemirror_mode": {
    "name": "ipython",
    "version": 3
   },
   "file_extension": ".py",
   "mimetype": "text/x-python",
   "name": "python",
   "nbconvert_exporter": "python",
   "pygments_lexer": "ipython3",
   "version": "3.4.3+"
  }
 },
 "nbformat": 4,
 "nbformat_minor": 0
}
